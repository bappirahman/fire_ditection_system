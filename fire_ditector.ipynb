{
  "nbformat": 4,
  "nbformat_minor": 0,
  "metadata": {
    "colab": {
      "provenance": [],
      "gpuType": "T4"
    },
    "kernelspec": {
      "name": "python3",
      "display_name": "Python 3"
    },
    "language_info": {
      "name": "python"
    },
    "accelerator": "GPU"
  },
  "cells": [
    {
      "cell_type": "markdown",
      "source": [
        "# Import Necessary libaries"
      ],
      "metadata": {
        "id": "JvkvOEyZw257"
      }
    },
    {
      "cell_type": "code",
      "source": [
        "import tensorflow as tf\n",
        "from tensorflow import keras\n",
        "import pandas as pd\n",
        "import matplotlib.pyplot as plt"
      ],
      "metadata": {
        "id": "z0cekqfkw2Ci"
      },
      "execution_count": null,
      "outputs": []
    },
    {
      "cell_type": "code",
      "execution_count": null,
      "metadata": {
        "id": "K43Pe3mnbXuA"
      },
      "outputs": [],
      "source": [
        "import zipfile\n",
        "\n",
        "zip_ref = zipfile.ZipFile('./drive/MyDrive/Colab Notebooks/data/fire_and_non_fire.zip')\n",
        "zip_ref.extractall()\n",
        "zip_ref.close()"
      ]
    },
    {
      "cell_type": "code",
      "source": [
        "image_shape = (224, 224)\n",
        "batch_size = 32\n",
        "\n",
        "train_data, test_data = keras.utils.image_dataset_from_directory(directory='./fire_dataset/',\n",
        "                                                                 subset='both',\n",
        "                                                                 validation_split=0.2,\n",
        "                                                                 image_size=image_shape,\n",
        "                                                                 batch_size=batch_size,\n",
        "                                                                 label_mode='binary',\n",
        "                                                                 shuffle=True,\n",
        "                                                                 seed=42)"
      ],
      "metadata": {
        "id": "MvfduUFeXV8Z"
      },
      "execution_count": null,
      "outputs": []
    },
    {
      "cell_type": "code",
      "source": [
        "train_data.class_names"
      ],
      "metadata": {
        "colab": {
          "base_uri": "https://localhost:8080/"
        },
        "id": "NU1uFrVq_t23",
        "outputId": "7cdca19c-c54d-41c9-abb1-eaf708c86701"
      },
      "execution_count": null,
      "outputs": [
        {
          "output_type": "execute_result",
          "data": {
            "text/plain": [
              "['fire_images', 'non_fire_images']"
            ]
          },
          "metadata": {},
          "execution_count": 43
        }
      ]
    },
    {
      "cell_type": "code",
      "source": [
        "from tensorflow.keras import Sequential\n",
        "from tensorflow.keras.layers.experimental.preprocessing import (RandomFlip,\n",
        "                                                               RandomZoom,\n",
        "                                                               RandomHeight,\n",
        "                                                               RandomWidth,\n",
        "                                                               RandomRotation)\n",
        "\n",
        "data_augmentation = Sequential([\n",
        "    RandomFlip(),\n",
        "    RandomZoom((0.2, 0.2)),\n",
        "    RandomRotation((0.2, 0.2)),\n",
        "    RandomHeight((0.2, 0.2)),\n",
        "    RandomWidth((0.2, 0.2))\n",
        "])"
      ],
      "metadata": {
        "id": "3iAtIu-cx36M"
      },
      "execution_count": null,
      "outputs": []
    },
    {
      "cell_type": "markdown",
      "source": [
        "# creating some helper function"
      ],
      "metadata": {
        "id": "tzkkhxg95iXR"
      }
    },
    {
      "cell_type": "code",
      "source": [
        "def show_layers(model):\n",
        "  for count, layer in enumerate(model.layers):\n",
        "    print(count, layer, layer.trainable)"
      ],
      "metadata": {
        "id": "6reQP_9B5lmb"
      },
      "execution_count": null,
      "outputs": []
    },
    {
      "cell_type": "code",
      "source": [
        "def show_curve(history):\n",
        "  train_loss = history['loss']\n",
        "  val_loss = history['val_loss']\n",
        "  train_accuracy = history['accuracy']\n",
        "  val_accuracy = history['val_accuracy']\n",
        "  plt.figure(figsize=(7, 10))\n",
        "  plt.subplot(2, 1, 1)\n",
        "  plt.plot(train_loss)\n",
        "  plt.plot(val_loss)\n",
        "  plt.title('loss')\n",
        "  plt.subplot(2, 1, 2)\n",
        "  plt.plot(train_accuracy)\n",
        "  plt.plot(val_accuracy)\n",
        "  plt.title('accuracy')"
      ],
      "metadata": {
        "id": "836HP3rNCtRd"
      },
      "execution_count": null,
      "outputs": []
    },
    {
      "cell_type": "markdown",
      "source": [
        "\\# Cronstructing Architecture"
      ],
      "metadata": {
        "id": "TESsM_F13pIU"
      }
    },
    {
      "cell_type": "markdown",
      "source": [
        "## Efficient Net V2B3 Architechture"
      ],
      "metadata": {
        "id": "Fmor-_3L3wJH"
      }
    },
    {
      "cell_type": "code",
      "source": [
        "from tensorflow.keras.layers import Input, GlobalAveragePooling2D, Dense\n",
        "from tensorflow.keras import Model\n",
        "from tensorflow.keras.losses import BinaryCrossentropy\n",
        "from tensorflow.keras.optimizers import Adam\n",
        "\n",
        "efficientnet_v2b3_base_model = keras.applications.efficientnet_v2.EfficientNetV2B3(include_top=False)\n",
        "efficientnet_v2b3_base_model.trainable = False\n",
        "\n",
        "input = Input(shape=(224, 224, 3), name='input_layer')\n",
        "\n",
        "x = efficientnet_v2b3_base_model(input)\n",
        "\n",
        "x = GlobalAveragePooling2D(name='global_average_pooling_2d')(x)\n",
        "output = Dense(1, activation='sigmoid', name='output_layer')(x)\n",
        "\n",
        "efficient_v2_b3_model = Model(input, output)\n",
        "\n",
        "efficient_v2_b3_model.compile(loss=BinaryCrossentropy(),\n",
        "                              optimizer=Adam(),\n",
        "                              metrics=['accuracy'])"
      ],
      "metadata": {
        "id": "86dHM5hL2BDg"
      },
      "execution_count": null,
      "outputs": []
    },
    {
      "cell_type": "code",
      "source": [
        "show_layers(efficientnet_v2b3_base_model)"
      ],
      "metadata": {
        "id": "2OXJT1PB53_j"
      },
      "execution_count": null,
      "outputs": []
    },
    {
      "cell_type": "code",
      "source": [
        "efficient_v2_b3_history = efficient_v2_b3_model.fit(train_data,\n",
        "                                                    epochs=10,\n",
        "                                                    steps_per_epoch=len(train_data),\n",
        "                                                    batch_size=batch_size,\n",
        "                                                    validation_data=test_data,\n",
        "                                                    validation_steps=0.25 * len(test_data),\n",
        "                                                    validation_batch_size=batch_size)"
      ],
      "metadata": {
        "colab": {
          "base_uri": "https://localhost:8080/"
        },
        "id": "9Ww2fwdw-mG1",
        "outputId": "2f4271f2-2852-4a2a-e904-7f6e58e841d3"
      },
      "execution_count": null,
      "outputs": [
        {
          "output_type": "stream",
          "name": "stdout",
          "text": [
            "Epoch 1/10\n",
            "25/25 [==============================] - 36s 644ms/step - loss: 0.3749 - accuracy: 0.8587 - val_loss: 0.1975 - val_accuracy: 0.9375\n",
            "Epoch 2/10\n",
            "25/25 [==============================] - 15s 401ms/step - loss: 0.1602 - accuracy: 0.9625 - val_loss: 0.1136 - val_accuracy: 0.9688\n",
            "Epoch 3/10\n",
            "25/25 [==============================] - 15s 477ms/step - loss: 0.1121 - accuracy: 0.9712 - val_loss: 0.0887 - val_accuracy: 0.9688\n",
            "Epoch 4/10\n",
            "25/25 [==============================] - 14s 469ms/step - loss: 0.0926 - accuracy: 0.9762 - val_loss: 0.0741 - val_accuracy: 0.9688\n",
            "Epoch 5/10\n",
            "25/25 [==============================] - 17s 530ms/step - loss: 0.0813 - accuracy: 0.9837 - val_loss: 0.0656 - val_accuracy: 0.9688\n",
            "Epoch 6/10\n",
            "25/25 [==============================] - 16s 421ms/step - loss: 0.0753 - accuracy: 0.9825 - val_loss: 0.0595 - val_accuracy: 0.9688\n",
            "Epoch 7/10\n",
            "25/25 [==============================] - 17s 528ms/step - loss: 0.0643 - accuracy: 0.9875 - val_loss: 0.0551 - val_accuracy: 0.9844\n",
            "Epoch 8/10\n",
            "25/25 [==============================] - 15s 506ms/step - loss: 0.0631 - accuracy: 0.9850 - val_loss: 0.0515 - val_accuracy: 0.9844\n",
            "Epoch 9/10\n",
            "25/25 [==============================] - 16s 506ms/step - loss: 0.0603 - accuracy: 0.9837 - val_loss: 0.0493 - val_accuracy: 0.9844\n",
            "Epoch 10/10\n",
            "25/25 [==============================] - 16s 468ms/step - loss: 0.0580 - accuracy: 0.9862 - val_loss: 0.0476 - val_accuracy: 0.9844\n"
          ]
        }
      ]
    },
    {
      "cell_type": "code",
      "source": [
        "efficient_v2_b3_history = pd.DataFrame(efficient_v2_b3_history.history)\n",
        "efficient_v2_b3_history"
      ],
      "metadata": {
        "colab": {
          "base_uri": "https://localhost:8080/",
          "height": 363
        },
        "id": "BceoP70k_QBu",
        "outputId": "01a014f1-9e9c-4427-ba69-6055e4ae77f5"
      },
      "execution_count": null,
      "outputs": [
        {
          "output_type": "execute_result",
          "data": {
            "text/plain": [
              "       loss  accuracy  val_loss  val_accuracy\n",
              "0  0.374932   0.85875  0.197490      0.937500\n",
              "1  0.160225   0.96250  0.113586      0.968750\n",
              "2  0.112123   0.97125  0.088665      0.968750\n",
              "3  0.092574   0.97625  0.074087      0.968750\n",
              "4  0.081277   0.98375  0.065587      0.968750\n",
              "5  0.075308   0.98250  0.059530      0.968750\n",
              "6  0.064283   0.98750  0.055060      0.984375\n",
              "7  0.063119   0.98500  0.051550      0.984375\n",
              "8  0.060319   0.98375  0.049255      0.984375\n",
              "9  0.057970   0.98625  0.047581      0.984375"
            ],
            "text/html": [
              "\n",
              "  <div id=\"df-4a41e4df-d5ed-469d-93d3-999dc7339890\" class=\"colab-df-container\">\n",
              "    <div>\n",
              "<style scoped>\n",
              "    .dataframe tbody tr th:only-of-type {\n",
              "        vertical-align: middle;\n",
              "    }\n",
              "\n",
              "    .dataframe tbody tr th {\n",
              "        vertical-align: top;\n",
              "    }\n",
              "\n",
              "    .dataframe thead th {\n",
              "        text-align: right;\n",
              "    }\n",
              "</style>\n",
              "<table border=\"1\" class=\"dataframe\">\n",
              "  <thead>\n",
              "    <tr style=\"text-align: right;\">\n",
              "      <th></th>\n",
              "      <th>loss</th>\n",
              "      <th>accuracy</th>\n",
              "      <th>val_loss</th>\n",
              "      <th>val_accuracy</th>\n",
              "    </tr>\n",
              "  </thead>\n",
              "  <tbody>\n",
              "    <tr>\n",
              "      <th>0</th>\n",
              "      <td>0.374932</td>\n",
              "      <td>0.85875</td>\n",
              "      <td>0.197490</td>\n",
              "      <td>0.937500</td>\n",
              "    </tr>\n",
              "    <tr>\n",
              "      <th>1</th>\n",
              "      <td>0.160225</td>\n",
              "      <td>0.96250</td>\n",
              "      <td>0.113586</td>\n",
              "      <td>0.968750</td>\n",
              "    </tr>\n",
              "    <tr>\n",
              "      <th>2</th>\n",
              "      <td>0.112123</td>\n",
              "      <td>0.97125</td>\n",
              "      <td>0.088665</td>\n",
              "      <td>0.968750</td>\n",
              "    </tr>\n",
              "    <tr>\n",
              "      <th>3</th>\n",
              "      <td>0.092574</td>\n",
              "      <td>0.97625</td>\n",
              "      <td>0.074087</td>\n",
              "      <td>0.968750</td>\n",
              "    </tr>\n",
              "    <tr>\n",
              "      <th>4</th>\n",
              "      <td>0.081277</td>\n",
              "      <td>0.98375</td>\n",
              "      <td>0.065587</td>\n",
              "      <td>0.968750</td>\n",
              "    </tr>\n",
              "    <tr>\n",
              "      <th>5</th>\n",
              "      <td>0.075308</td>\n",
              "      <td>0.98250</td>\n",
              "      <td>0.059530</td>\n",
              "      <td>0.968750</td>\n",
              "    </tr>\n",
              "    <tr>\n",
              "      <th>6</th>\n",
              "      <td>0.064283</td>\n",
              "      <td>0.98750</td>\n",
              "      <td>0.055060</td>\n",
              "      <td>0.984375</td>\n",
              "    </tr>\n",
              "    <tr>\n",
              "      <th>7</th>\n",
              "      <td>0.063119</td>\n",
              "      <td>0.98500</td>\n",
              "      <td>0.051550</td>\n",
              "      <td>0.984375</td>\n",
              "    </tr>\n",
              "    <tr>\n",
              "      <th>8</th>\n",
              "      <td>0.060319</td>\n",
              "      <td>0.98375</td>\n",
              "      <td>0.049255</td>\n",
              "      <td>0.984375</td>\n",
              "    </tr>\n",
              "    <tr>\n",
              "      <th>9</th>\n",
              "      <td>0.057970</td>\n",
              "      <td>0.98625</td>\n",
              "      <td>0.047581</td>\n",
              "      <td>0.984375</td>\n",
              "    </tr>\n",
              "  </tbody>\n",
              "</table>\n",
              "</div>\n",
              "    <div class=\"colab-df-buttons\">\n",
              "\n",
              "  <div class=\"colab-df-container\">\n",
              "    <button class=\"colab-df-convert\" onclick=\"convertToInteractive('df-4a41e4df-d5ed-469d-93d3-999dc7339890')\"\n",
              "            title=\"Convert this dataframe to an interactive table.\"\n",
              "            style=\"display:none;\">\n",
              "\n",
              "  <svg xmlns=\"http://www.w3.org/2000/svg\" height=\"24px\" viewBox=\"0 -960 960 960\">\n",
              "    <path d=\"M120-120v-720h720v720H120Zm60-500h600v-160H180v160Zm220 220h160v-160H400v160Zm0 220h160v-160H400v160ZM180-400h160v-160H180v160Zm440 0h160v-160H620v160ZM180-180h160v-160H180v160Zm440 0h160v-160H620v160Z\"/>\n",
              "  </svg>\n",
              "    </button>\n",
              "\n",
              "  <style>\n",
              "    .colab-df-container {\n",
              "      display:flex;\n",
              "      gap: 12px;\n",
              "    }\n",
              "\n",
              "    .colab-df-convert {\n",
              "      background-color: #E8F0FE;\n",
              "      border: none;\n",
              "      border-radius: 50%;\n",
              "      cursor: pointer;\n",
              "      display: none;\n",
              "      fill: #1967D2;\n",
              "      height: 32px;\n",
              "      padding: 0 0 0 0;\n",
              "      width: 32px;\n",
              "    }\n",
              "\n",
              "    .colab-df-convert:hover {\n",
              "      background-color: #E2EBFA;\n",
              "      box-shadow: 0px 1px 2px rgba(60, 64, 67, 0.3), 0px 1px 3px 1px rgba(60, 64, 67, 0.15);\n",
              "      fill: #174EA6;\n",
              "    }\n",
              "\n",
              "    .colab-df-buttons div {\n",
              "      margin-bottom: 4px;\n",
              "    }\n",
              "\n",
              "    [theme=dark] .colab-df-convert {\n",
              "      background-color: #3B4455;\n",
              "      fill: #D2E3FC;\n",
              "    }\n",
              "\n",
              "    [theme=dark] .colab-df-convert:hover {\n",
              "      background-color: #434B5C;\n",
              "      box-shadow: 0px 1px 3px 1px rgba(0, 0, 0, 0.15);\n",
              "      filter: drop-shadow(0px 1px 2px rgba(0, 0, 0, 0.3));\n",
              "      fill: #FFFFFF;\n",
              "    }\n",
              "  </style>\n",
              "\n",
              "    <script>\n",
              "      const buttonEl =\n",
              "        document.querySelector('#df-4a41e4df-d5ed-469d-93d3-999dc7339890 button.colab-df-convert');\n",
              "      buttonEl.style.display =\n",
              "        google.colab.kernel.accessAllowed ? 'block' : 'none';\n",
              "\n",
              "      async function convertToInteractive(key) {\n",
              "        const element = document.querySelector('#df-4a41e4df-d5ed-469d-93d3-999dc7339890');\n",
              "        const dataTable =\n",
              "          await google.colab.kernel.invokeFunction('convertToInteractive',\n",
              "                                                    [key], {});\n",
              "        if (!dataTable) return;\n",
              "\n",
              "        const docLinkHtml = 'Like what you see? Visit the ' +\n",
              "          '<a target=\"_blank\" href=https://colab.research.google.com/notebooks/data_table.ipynb>data table notebook</a>'\n",
              "          + ' to learn more about interactive tables.';\n",
              "        element.innerHTML = '';\n",
              "        dataTable['output_type'] = 'display_data';\n",
              "        await google.colab.output.renderOutput(dataTable, element);\n",
              "        const docLink = document.createElement('div');\n",
              "        docLink.innerHTML = docLinkHtml;\n",
              "        element.appendChild(docLink);\n",
              "      }\n",
              "    </script>\n",
              "  </div>\n",
              "\n",
              "\n",
              "<div id=\"df-97089b45-e5d2-4525-9c3a-b1d3b73de2ef\">\n",
              "  <button class=\"colab-df-quickchart\" onclick=\"quickchart('df-97089b45-e5d2-4525-9c3a-b1d3b73de2ef')\"\n",
              "            title=\"Suggest charts\"\n",
              "            style=\"display:none;\">\n",
              "\n",
              "<svg xmlns=\"http://www.w3.org/2000/svg\" height=\"24px\"viewBox=\"0 0 24 24\"\n",
              "     width=\"24px\">\n",
              "    <g>\n",
              "        <path d=\"M19 3H5c-1.1 0-2 .9-2 2v14c0 1.1.9 2 2 2h14c1.1 0 2-.9 2-2V5c0-1.1-.9-2-2-2zM9 17H7v-7h2v7zm4 0h-2V7h2v10zm4 0h-2v-4h2v4z\"/>\n",
              "    </g>\n",
              "</svg>\n",
              "  </button>\n",
              "\n",
              "<style>\n",
              "  .colab-df-quickchart {\n",
              "      --bg-color: #E8F0FE;\n",
              "      --fill-color: #1967D2;\n",
              "      --hover-bg-color: #E2EBFA;\n",
              "      --hover-fill-color: #174EA6;\n",
              "      --disabled-fill-color: #AAA;\n",
              "      --disabled-bg-color: #DDD;\n",
              "  }\n",
              "\n",
              "  [theme=dark] .colab-df-quickchart {\n",
              "      --bg-color: #3B4455;\n",
              "      --fill-color: #D2E3FC;\n",
              "      --hover-bg-color: #434B5C;\n",
              "      --hover-fill-color: #FFFFFF;\n",
              "      --disabled-bg-color: #3B4455;\n",
              "      --disabled-fill-color: #666;\n",
              "  }\n",
              "\n",
              "  .colab-df-quickchart {\n",
              "    background-color: var(--bg-color);\n",
              "    border: none;\n",
              "    border-radius: 50%;\n",
              "    cursor: pointer;\n",
              "    display: none;\n",
              "    fill: var(--fill-color);\n",
              "    height: 32px;\n",
              "    padding: 0;\n",
              "    width: 32px;\n",
              "  }\n",
              "\n",
              "  .colab-df-quickchart:hover {\n",
              "    background-color: var(--hover-bg-color);\n",
              "    box-shadow: 0 1px 2px rgba(60, 64, 67, 0.3), 0 1px 3px 1px rgba(60, 64, 67, 0.15);\n",
              "    fill: var(--button-hover-fill-color);\n",
              "  }\n",
              "\n",
              "  .colab-df-quickchart-complete:disabled,\n",
              "  .colab-df-quickchart-complete:disabled:hover {\n",
              "    background-color: var(--disabled-bg-color);\n",
              "    fill: var(--disabled-fill-color);\n",
              "    box-shadow: none;\n",
              "  }\n",
              "\n",
              "  .colab-df-spinner {\n",
              "    border: 2px solid var(--fill-color);\n",
              "    border-color: transparent;\n",
              "    border-bottom-color: var(--fill-color);\n",
              "    animation:\n",
              "      spin 1s steps(1) infinite;\n",
              "  }\n",
              "\n",
              "  @keyframes spin {\n",
              "    0% {\n",
              "      border-color: transparent;\n",
              "      border-bottom-color: var(--fill-color);\n",
              "      border-left-color: var(--fill-color);\n",
              "    }\n",
              "    20% {\n",
              "      border-color: transparent;\n",
              "      border-left-color: var(--fill-color);\n",
              "      border-top-color: var(--fill-color);\n",
              "    }\n",
              "    30% {\n",
              "      border-color: transparent;\n",
              "      border-left-color: var(--fill-color);\n",
              "      border-top-color: var(--fill-color);\n",
              "      border-right-color: var(--fill-color);\n",
              "    }\n",
              "    40% {\n",
              "      border-color: transparent;\n",
              "      border-right-color: var(--fill-color);\n",
              "      border-top-color: var(--fill-color);\n",
              "    }\n",
              "    60% {\n",
              "      border-color: transparent;\n",
              "      border-right-color: var(--fill-color);\n",
              "    }\n",
              "    80% {\n",
              "      border-color: transparent;\n",
              "      border-right-color: var(--fill-color);\n",
              "      border-bottom-color: var(--fill-color);\n",
              "    }\n",
              "    90% {\n",
              "      border-color: transparent;\n",
              "      border-bottom-color: var(--fill-color);\n",
              "    }\n",
              "  }\n",
              "</style>\n",
              "\n",
              "  <script>\n",
              "    async function quickchart(key) {\n",
              "      const quickchartButtonEl =\n",
              "        document.querySelector('#' + key + ' button');\n",
              "      quickchartButtonEl.disabled = true;  // To prevent multiple clicks.\n",
              "      quickchartButtonEl.classList.add('colab-df-spinner');\n",
              "      try {\n",
              "        const charts = await google.colab.kernel.invokeFunction(\n",
              "            'suggestCharts', [key], {});\n",
              "      } catch (error) {\n",
              "        console.error('Error during call to suggestCharts:', error);\n",
              "      }\n",
              "      quickchartButtonEl.classList.remove('colab-df-spinner');\n",
              "      quickchartButtonEl.classList.add('colab-df-quickchart-complete');\n",
              "    }\n",
              "    (() => {\n",
              "      let quickchartButtonEl =\n",
              "        document.querySelector('#df-97089b45-e5d2-4525-9c3a-b1d3b73de2ef button');\n",
              "      quickchartButtonEl.style.display =\n",
              "        google.colab.kernel.accessAllowed ? 'block' : 'none';\n",
              "    })();\n",
              "  </script>\n",
              "</div>\n",
              "\n",
              "  <div id=\"id_f5e9c253-9dac-483d-9240-60aba5190b6a\">\n",
              "    <style>\n",
              "      .colab-df-generate {\n",
              "        background-color: #E8F0FE;\n",
              "        border: none;\n",
              "        border-radius: 50%;\n",
              "        cursor: pointer;\n",
              "        display: none;\n",
              "        fill: #1967D2;\n",
              "        height: 32px;\n",
              "        padding: 0 0 0 0;\n",
              "        width: 32px;\n",
              "      }\n",
              "\n",
              "      .colab-df-generate:hover {\n",
              "        background-color: #E2EBFA;\n",
              "        box-shadow: 0px 1px 2px rgba(60, 64, 67, 0.3), 0px 1px 3px 1px rgba(60, 64, 67, 0.15);\n",
              "        fill: #174EA6;\n",
              "      }\n",
              "\n",
              "      [theme=dark] .colab-df-generate {\n",
              "        background-color: #3B4455;\n",
              "        fill: #D2E3FC;\n",
              "      }\n",
              "\n",
              "      [theme=dark] .colab-df-generate:hover {\n",
              "        background-color: #434B5C;\n",
              "        box-shadow: 0px 1px 3px 1px rgba(0, 0, 0, 0.15);\n",
              "        filter: drop-shadow(0px 1px 2px rgba(0, 0, 0, 0.3));\n",
              "        fill: #FFFFFF;\n",
              "      }\n",
              "    </style>\n",
              "    <button class=\"colab-df-generate\" onclick=\"generateWithVariable('efficient_v2_b3_history')\"\n",
              "            title=\"Generate code using this dataframe.\"\n",
              "            style=\"display:none;\">\n",
              "\n",
              "  <svg xmlns=\"http://www.w3.org/2000/svg\" height=\"24px\"viewBox=\"0 0 24 24\"\n",
              "       width=\"24px\">\n",
              "    <path d=\"M7,19H8.4L18.45,9,17,7.55,7,17.6ZM5,21V16.75L18.45,3.32a2,2,0,0,1,2.83,0l1.4,1.43a1.91,1.91,0,0,1,.58,1.4,1.91,1.91,0,0,1-.58,1.4L9.25,21ZM18.45,9,17,7.55Zm-12,3A5.31,5.31,0,0,0,4.9,8.1,5.31,5.31,0,0,0,1,6.5,5.31,5.31,0,0,0,4.9,4.9,5.31,5.31,0,0,0,6.5,1,5.31,5.31,0,0,0,8.1,4.9,5.31,5.31,0,0,0,12,6.5,5.46,5.46,0,0,0,6.5,12Z\"/>\n",
              "  </svg>\n",
              "    </button>\n",
              "    <script>\n",
              "      (() => {\n",
              "      const buttonEl =\n",
              "        document.querySelector('#id_f5e9c253-9dac-483d-9240-60aba5190b6a button.colab-df-generate');\n",
              "      buttonEl.style.display =\n",
              "        google.colab.kernel.accessAllowed ? 'block' : 'none';\n",
              "\n",
              "      buttonEl.onclick = () => {\n",
              "        google.colab.notebook.generateWithVariable('efficient_v2_b3_history');\n",
              "      }\n",
              "      })();\n",
              "    </script>\n",
              "  </div>\n",
              "\n",
              "    </div>\n",
              "  </div>\n"
            ]
          },
          "metadata": {},
          "execution_count": 49
        }
      ]
    },
    {
      "cell_type": "code",
      "source": [
        "show_curve(efficient_v2_b3_history)"
      ],
      "metadata": {
        "colab": {
          "base_uri": "https://localhost:8080/",
          "height": 853
        },
        "id": "bXbHb1m5C91B",
        "outputId": "f2d5c3a9-66bd-4f57-9527-491d6661fe74"
      },
      "execution_count": null,
      "outputs": [
        {
          "output_type": "display_data",
          "data": {
            "text/plain": [
              "<Figure size 700x1000 with 2 Axes>"
            ],
            "image/png": "[encoded data removed]"
          },
          "metadata": {}
        }
      ]
    },
    {
      "cell_type": "code",
      "source": [
        "efficient_v2_b3_model.evaluate(test_data)"
      ],
      "metadata": {
        "colab": {
          "base_uri": "https://localhost:8080/"
        },
        "id": "zU880BfgDzMh",
        "outputId": "bc4d8f58-4ae7-4338-d7fe-7f6e9c2946ee"
      },
      "execution_count": null,
      "outputs": [
        {
          "output_type": "stream",
          "name": "stdout",
          "text": [
            "7/7 [==============================] - 5s 551ms/step - loss: 0.0654 - accuracy: 0.9749\n"
          ]
        },
        {
          "output_type": "execute_result",
          "data": {
            "text/plain": [
              "[0.06542457640171051, 0.9748743772506714]"
            ]
          },
          "metadata": {},
          "execution_count": 57
        }
      ]
    },
    {
      "cell_type": "code",
      "source": [
        "efficient_v2_b3_model.save('./drive/MyDrive/Colab Notebooks/model/efficient_v2_b3_fire_classifier.h5')"
      ],
      "metadata": {
        "id": "8yNY8J5qEdEP"
      },
      "execution_count": null,
      "outputs": []
    },
    {
      "cell_type": "code",
      "source": [],
      "metadata": {
        "id": "68JzAkgwEw6r"
      },
      "execution_count": null,
      "outputs": []
    }
  ]
}